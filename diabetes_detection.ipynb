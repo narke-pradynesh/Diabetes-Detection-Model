{
  "nbformat": 4,
  "nbformat_minor": 0,
  "metadata": {
    "colab": {
      "provenance": [],
      "gpuType": "T4"
    },
    "kernelspec": {
      "name": "python3",
      "display_name": "Python 3"
    },
    "language_info": {
      "name": "python"
    },
    "accelerator": "GPU"
  },
  "cells": [
    {
      "cell_type": "markdown",
      "source": [
        "###Preparing Libraries and dataset"
      ],
      "metadata": {
        "id": "IRAHp4nfVBl2"
      }
    },
    {
      "cell_type": "code",
      "execution_count": 39,
      "metadata": {
        "id": "IzWzONoQUTCk"
      },
      "outputs": [],
      "source": [
        "import numpy as np\n",
        "import matplotlib.pyplot as plt\n",
        "import pandas as pd"
      ]
    },
    {
      "cell_type": "code",
      "source": [
        "df = pd.read_csv('data.csv')"
      ],
      "metadata": {
        "id": "-bSRZmhCVAOD"
      },
      "execution_count": 40,
      "outputs": []
    },
    {
      "cell_type": "code",
      "source": [
        "df.info()"
      ],
      "metadata": {
        "colab": {
          "base_uri": "https://localhost:8080/"
        },
        "id": "x2d3IIjKVpWZ",
        "outputId": "ca7b90bf-ffda-403b-ad42-0f28c31909f6"
      },
      "execution_count": 41,
      "outputs": [
        {
          "output_type": "stream",
          "name": "stdout",
          "text": [
            "<class 'pandas.core.frame.DataFrame'>\n",
            "RangeIndex: 264 entries, 0 to 263\n",
            "Data columns (total 12 columns):\n",
            " #   Column  Non-Null Count  Dtype  \n",
            "---  ------  --------------  -----  \n",
            " 0   Gender  264 non-null    int64  \n",
            " 1   AGE     264 non-null    int64  \n",
            " 2   Urea    264 non-null    float64\n",
            " 3   Cr      264 non-null    int64  \n",
            " 4   HbA1c   264 non-null    float64\n",
            " 5   Chol    264 non-null    float64\n",
            " 6   TG      264 non-null    float64\n",
            " 7   HDL     264 non-null    float64\n",
            " 8   LDL     264 non-null    float64\n",
            " 9   VLDL    264 non-null    float64\n",
            " 10  BMI     264 non-null    float64\n",
            " 11  Class   264 non-null    int64  \n",
            "dtypes: float64(8), int64(4)\n",
            "memory usage: 24.9 KB\n"
          ]
        }
      ]
    },
    {
      "cell_type": "code",
      "source": [
        "X = df.drop('Class', axis=1).values\n",
        "y = df['Class'].values"
      ],
      "metadata": {
        "id": "nxNPCmgAVqwN"
      },
      "execution_count": 42,
      "outputs": []
    },
    {
      "cell_type": "markdown",
      "source": [
        "Splitting dataset"
      ],
      "metadata": {
        "id": "n-Fx2PQHW9lM"
      }
    },
    {
      "cell_type": "code",
      "source": [
        "from sklearn.model_selection import train_test_split\n",
        "X_train, X_test, y_train, y_test = train_test_split(X, y, test_size=0.2, random_state=42)"
      ],
      "metadata": {
        "id": "TYOIjd0UW_TM"
      },
      "execution_count": 55,
      "outputs": []
    },
    {
      "cell_type": "markdown",
      "source": [
        "###Feature Scaling"
      ],
      "metadata": {
        "id": "AQPNiStOWlh5"
      }
    },
    {
      "cell_type": "code",
      "source": [
        "from sklearn.preprocessing import StandardScaler"
      ],
      "metadata": {
        "id": "eseKkXbSWnwx"
      },
      "execution_count": 56,
      "outputs": []
    },
    {
      "cell_type": "code",
      "source": [
        "sc = StandardScaler()\n",
        "X_train[:, 1:] = sc.fit_transform(X_train[:, 1:])\n",
        "X_test[:, 1:] = sc.transform(X_test[:, 1:])"
      ],
      "metadata": {
        "id": "Y9O_iP1qW6hM"
      },
      "execution_count": 57,
      "outputs": []
    },
    {
      "cell_type": "markdown",
      "source": [
        "###Model creation"
      ],
      "metadata": {
        "id": "KGuzIyIDXirU"
      }
    },
    {
      "cell_type": "code",
      "source": [
        "from sklearn.ensemble import RandomForestClassifier\n",
        "rf_classifier = RandomForestClassifier(n_estimators=10, random_state=42)\n",
        "random_forest_model = rf_classifier.fit(X_train, y_train)"
      ],
      "metadata": {
        "id": "ugo79lHIXkJY"
      },
      "execution_count": 58,
      "outputs": []
    },
    {
      "cell_type": "code",
      "source": [
        "y_pred = random_forest_model.predict(X_test)"
      ],
      "metadata": {
        "id": "rjO7iky9X3VJ"
      },
      "execution_count": 59,
      "outputs": []
    },
    {
      "cell_type": "markdown",
      "source": [
        "###Evaluation"
      ],
      "metadata": {
        "id": "zic26ZpiYASA"
      }
    },
    {
      "cell_type": "code",
      "source": [
        "from sklearn.metrics import classification_report, confusion_matrix, accuracy_score, ConfusionMatrixDisplay"
      ],
      "metadata": {
        "id": "dkyYEvxXYB_x"
      },
      "execution_count": 71,
      "outputs": []
    },
    {
      "cell_type": "code",
      "source": [
        "cm = confusion_matrix(y_test, y_pred)\n",
        "print(f'Random forest confusion matrix:\\n{cm}')\n"
      ],
      "metadata": {
        "colab": {
          "base_uri": "https://localhost:8080/"
        },
        "id": "4qJRTBzZYG6Q",
        "outputId": "5113e6c9-c6fc-487d-bcc1-b94a45ad8e79"
      },
      "execution_count": 61,
      "outputs": [
        {
          "output_type": "stream",
          "name": "stdout",
          "text": [
            "Random forest confusion matrix:\n",
            "[[18  0  0]\n",
            " [ 0  8  0]\n",
            " [ 0  0 27]]\n"
          ]
        }
      ]
    },
    {
      "cell_type": "code",
      "source": [
        "ConfusionMatrixDisplay(cm).plot(cmap='flare')\n",
        "plt.show()"
      ],
      "metadata": {
        "colab": {
          "base_uri": "https://localhost:8080/",
          "height": 449
        },
        "id": "NLSsTz5cfF9I",
        "outputId": "1eb8c0cb-9f77-4768-8292-844fc177d402"
      },
      "execution_count": 78,
      "outputs": [
        {
          "output_type": "display_data",
          "data": {
            "text/plain": [
              "<Figure size 640x480 with 2 Axes>"
            ],
            "image/png": "[encoded data removed]"
          },
          "metadata": {}
        }
      ]
    },
    {
      "cell_type": "code",
      "source": [
        "cr = classification_report(y_test, y_pred)\n",
        "print(f'Random Forest Classification Report:\\n{cr}')"
      ],
      "metadata": {
        "colab": {
          "base_uri": "https://localhost:8080/"
        },
        "id": "TAuLsZeiYSIQ",
        "outputId": "b78f51eb-373e-4bff-b9f0-ce7529243ed0"
      },
      "execution_count": 79,
      "outputs": [
        {
          "output_type": "stream",
          "name": "stdout",
          "text": [
            "Random Forest Classification Report:\n",
            "              precision    recall  f1-score   support\n",
            "\n",
            "           0       1.00      1.00      1.00        18\n",
            "           1       1.00      1.00      1.00         8\n",
            "           2       1.00      1.00      1.00        27\n",
            "\n",
            "    accuracy                           1.00        53\n",
            "   macro avg       1.00      1.00      1.00        53\n",
            "weighted avg       1.00      1.00      1.00        53\n",
            "\n"
          ]
        }
      ]
    },
    {
      "cell_type": "code",
      "source": [
        "print(f'Random forest accuracy score:\\n{accuracy_score(y_test, y_pred)}')"
      ],
      "metadata": {
        "colab": {
          "base_uri": "https://localhost:8080/"
        },
        "id": "fYpFbU8wYYTM",
        "outputId": "fbd14e94-45a7-4d2d-fb0d-c1d5615de52a"
      },
      "execution_count": 63,
      "outputs": [
        {
          "output_type": "stream",
          "name": "stdout",
          "text": [
            "Random forest accuracy score:\n",
            "1.0\n"
          ]
        }
      ]
    },
    {
      "cell_type": "code",
      "source": [
        "rf_classifier.feature_importances_"
      ],
      "metadata": {
        "colab": {
          "base_uri": "https://localhost:8080/"
        },
        "id": "l6QD-Ng7Yqa1",
        "outputId": "0b08f28c-6d40-4a06-de90-27796103e40e"
      },
      "execution_count": 64,
      "outputs": [
        {
          "output_type": "execute_result",
          "data": {
            "text/plain": [
              "array([0.23411762, 0.50643582, 0.25944656])"
            ]
          },
          "metadata": {},
          "execution_count": 64
        }
      ]
    },
    {
      "cell_type": "markdown",
      "source": [
        "###Optimization using important features"
      ],
      "metadata": {
        "id": "WgnylN1uZ-q1"
      }
    },
    {
      "cell_type": "code",
      "source": [
        "imp_features = ['AGE','HbA1c', 'BMI']\n",
        "X = df[imp_features].values\n",
        "y = df['Class'].values"
      ],
      "metadata": {
        "id": "cHhLUrNMaF_N"
      },
      "execution_count": 66,
      "outputs": []
    },
    {
      "cell_type": "markdown",
      "source": [
        "###Exporting model"
      ],
      "metadata": {
        "id": "0SZelu8icXCk"
      }
    },
    {
      "cell_type": "code",
      "source": [
        "import joblib\n",
        "joblib.dump(rf_classifier, 'model.pkl')"
      ],
      "metadata": {
        "colab": {
          "base_uri": "https://localhost:8080/"
        },
        "id": "o3p4GEOscbXr",
        "outputId": "385af2fe-5493-414c-9157-5e334e47e5a6"
      },
      "execution_count": 67,
      "outputs": [
        {
          "output_type": "execute_result",
          "data": {
            "text/plain": [
              "['model.pkl']"
            ]
          },
          "metadata": {},
          "execution_count": 67
        }
      ]
    },
    {
      "cell_type": "markdown",
      "source": [
        "#Checking model"
      ],
      "metadata": {
        "id": "ZdZiCSEQeny0"
      }
    },
    {
      "cell_type": "code",
      "source": [
        "import seaborn as sns\n",
        "print(df.corr()[\"Class\"].sort_values(ascending=False))"
      ],
      "metadata": {
        "colab": {
          "base_uri": "https://localhost:8080/"
        },
        "id": "q3UhdTK7epo0",
        "outputId": "59343e15-ba35-40e5-885e-c726659b1be3"
      },
      "execution_count": 69,
      "outputs": [
        {
          "output_type": "stream",
          "name": "stdout",
          "text": [
            "Class     1.000000\n",
            "HbA1c     0.771993\n",
            "BMI       0.752083\n",
            "AGE       0.514331\n",
            "TG        0.313029\n",
            "Chol      0.262123\n",
            "Urea      0.232363\n",
            "Cr        0.209028\n",
            "Gender    0.196158\n",
            "VLDL      0.156690\n",
            "HDL      -0.029850\n",
            "LDL      -0.047529\n",
            "Name: Class, dtype: float64\n"
          ]
        }
      ]
    },
    {
      "cell_type": "code",
      "source": [
        "from sklearn.model_selection import cross_val_score\n",
        "\n",
        "scores = cross_val_score(RandomForestClassifier(random_state=42), X, y, cv=5)\n",
        "print(\"Cross-val scores:\", scores)\n",
        "print(\"Mean Accuracy:\", scores.mean())\n"
      ],
      "metadata": {
        "colab": {
          "base_uri": "https://localhost:8080/"
        },
        "id": "Ke8UkekHeyL_",
        "outputId": "9231162a-6269-4c81-d06a-5c33da9c9853"
      },
      "execution_count": 70,
      "outputs": [
        {
          "output_type": "stream",
          "name": "stdout",
          "text": [
            "Cross-val scores: [0.88679245 1.         1.         0.98113208 0.98076923]\n",
            "Mean Accuracy: 0.9697387518142235\n"
          ]
        }
      ]
    }
  ]
}